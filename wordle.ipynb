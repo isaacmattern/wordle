{
  "nbformat": 4,
  "nbformat_minor": 0,
  "metadata": {
    "colab": {
      "name": "wordle.ipynb",
      "provenance": [],
      "authorship_tag": "ABX9TyNMsFFwi3H8t8V0SLcoIoks",
      "include_colab_link": true
    },
    "kernelspec": {
      "name": "python3",
      "display_name": "Python 3"
    },
    "language_info": {
      "name": "python"
    }
  },
  "cells": [
    {
      "cell_type": "markdown",
      "metadata": {
        "id": "view-in-github",
        "colab_type": "text"
      },
      "source": [
        "<a href=\"https://colab.research.google.com/github/isaacmattern/wordle/blob/main/wordle.ipynb\" target=\"_parent\"><img src=\"https://colab.research.google.com/assets/colab-badge.svg\" alt=\"Open In Colab\"/></a>"
      ]
    },
    {
      "cell_type": "markdown",
      "source": [
        "# **Wordle Solver**\n",
        "### Python project by Isaac Mattern\n",
        "\n",
        "[Wordle](https://www.powerlanguage.co.uk/wordle/) is a game where the objective is to correctly guess a 5-letter word in 6 tries or less. Each time a player submits a guess, the game highlights each letter in the word in\n",
        "\n",
        "*   green, if the letter is in the word and in the correct location in the word\n",
        "*   yellow, if the letter is in the word, but not in the position where the user guessed\n",
        "*   gray, if the word does not contain the letter at all\n",
        "\n",
        "This project is an attempt to use a list of the 12,972 5-letter words which are valid Wordle guesses and some Python magic to solve some Wordles.\n",
        "\n",
        "I will be attempting to devise different algorithms to best solve Wordle."
      ],
      "metadata": {
        "id": "KIndBlcpPx_h"
      }
    },
    {
      "cell_type": "code",
      "source": [
        "# Control the amount of simulated games each algorithm will play\n",
        "simulations = 30"
      ],
      "metadata": {
        "id": "Vi6aIjCnrA02"
      },
      "execution_count": null,
      "outputs": []
    },
    {
      "cell_type": "markdown",
      "source": [
        "##Getting Words\n",
        "First thing's first, Wordle is all about 5-letter words. Assuming we don't understand how Wordle's words are selected, we can just search for a dataset of 5-letter words! [This repository](https://github.com/dwyl/english-words) contains the 466,000 most common English words. We could select the [words_aplpha.txt](https://raw.githubusercontent.com/dwyl/english-words/master/words_alpha.txt) file and place all words that aren't of length 5 into a list. Printing the length of this list tells us we have the 15,918 most common 5-letter English words. So, unless the people at Wordle are feeling particulary cruel, we probably have the answer here somewhere. \n",
        "\n",
        "But there's a smarter option here: the Wordle site gives a list of all valid Wordle guesses. We can just use those words to more accurately simulate Wordle. Plus, we don't want to generate any guesses that the real game wouldn't accept. "
      ],
      "metadata": {
        "id": "31tCYYK8Vg_D"
      }
    },
    {
      "cell_type": "code",
      "source": [
        "# Grab the file we want - you can uncomment the line below to grab the 466k most\n",
        "# common English words. You'll also need to change the file name in the open command.\n",
        "\n",
        "# !wget -q https://raw.githubusercontent.com/dwyl/english-words/master/words_alpha.txt\n",
        "!wget -q https://raw.githubusercontent.com/isaacmattern/wordle/main/valid-wordle-words.txt"
      ],
      "metadata": {
        "id": "hMFAQvDcyLM3"
      },
      "execution_count": 221,
      "outputs": []
    },
    {
      "cell_type": "code",
      "execution_count": 222,
      "metadata": {
        "id": "kZyCPBV_PcSc",
        "outputId": "6686f71e-6005-4235-ce7a-1071c43591aa",
        "colab": {
          "base_uri": "https://localhost:8080/"
        }
      },
      "outputs": [
        {
          "output_type": "stream",
          "name": "stdout",
          "text": [
            "12972\n"
          ]
        }
      ],
      "source": [
        "words_file = open(\"valid-wordle-words.txt\", \"r\")\n",
        "\n",
        "all_words = []\n",
        "for line in words_file:\n",
        "  word = line.strip()\n",
        "  # This line is only necessary if we aren't using the Wordle-supplied list\n",
        "  if len(word) == 5:\n",
        "    all_words.append(word)\n",
        "\n",
        "print(len(all_words))"
      ]
    },
    {
      "cell_type": "markdown",
      "source": [
        "## Defining Some Important Functions\n",
        "\n",
        "Wordle will tell us certain information about our guess which we can use to eliminate many words from our list of possible words.\n",
        "\n",
        "*   A **green** letter means we can eliminate any word which doesn't have the letter at the spot where we guessed it\n",
        "*   A **yellow** letter means we can eliminate any words without that letter\n",
        "*   A **gray** letter means we can eliminate any words with that letter \n",
        "\n",
        "Let's define two functions which will be useful regardless of what algorithm we are using.\n",
        "\n",
        "\n",
        "1.   An **update_possible** function will allow us to trim down our list of possible Wordle solutions.\n",
        "2.   A **get_colors** function will allow us to simulate what Wordle's program does each time you submit a guess. Thus, this function will only be used when we're running simulations to test the efficiency of our word-guessing algorithms"
      ],
      "metadata": {
        "id": "hRLlnKIP9o9-"
      }
    },
    {
      "cell_type": "code",
      "source": [
        "def update_possible(guess, possible, colors):\n",
        "  \"\"\"\n",
        "  Uses a list of colors (equal in length\n",
        "  to the length of our words) to eliminate words\n",
        "  which could not possibly be correct. \n",
        "  \"\"\"\n",
        "  for i in range(len(guess)):\n",
        "    if colors[i] == 0:\n",
        "      # Eliminate all words which do not have a correct letter in a correct spot\n",
        "      for word in possible[:]:\n",
        "        if guess[i] != word[i]:\n",
        "          possible.remove(word)\n",
        "    elif colors[i] == 1:\n",
        "      # Eliminate all words which do not contain a correct letter\n",
        "      for word in possible[:]:\n",
        "        if guess[i] not in word:\n",
        "          possible.remove(word)\n",
        "    else:\n",
        "      # Eliminate all words which contain an incorrect letter\n",
        "      for word in possible[:]:\n",
        "        if guess[i] in word:\n",
        "          possible.remove(word)\n",
        "  if guess in possible:\n",
        "    possible.remove(guess)\n",
        "  return possible\n",
        "\n",
        "def get_colors(guess, answer) -> list:\n",
        "  \"\"\"\n",
        "  Compares a guess to an answer and\n",
        "  returns a list of numbers which signifies\n",
        "  colors returned by a wordle guess.\n",
        "  0 = Green\n",
        "  1 = Yellow\n",
        "  2 = Gray\n",
        "  \"\"\"\n",
        "  colors = []\n",
        "  for i in range(len(guess)):\n",
        "    if guess[i] == answer[i]:\n",
        "      colors.append(0)\n",
        "    elif guess[i] in answer:\n",
        "      colors.append(1)\n",
        "    else:\n",
        "      colors.append(2)\n",
        "\n",
        "  return colors"
      ],
      "metadata": {
        "id": "Rw5R2203k8H1"
      },
      "execution_count": 223,
      "outputs": []
    },
    {
      "cell_type": "markdown",
      "source": [
        "## Approach 1: Random Guess\n",
        "\n",
        "We will first randomly select a word using *random.choice*. A completely random guess probably isn't the greatest strategy, so we shouldn't expect an amazing result. \n",
        "\n",
        "After selecting a random 100 words from the list and running a simulation for each of them, it took, on average, 6.37 guesses, which is kind of garbage, since more than 6 guesses is considered a loss by Wordle. "
      ],
      "metadata": {
        "id": "rhQ1ZVbUXOjX"
      }
    },
    {
      "cell_type": "code",
      "source": [
        "import random\n",
        "\n",
        "def random_guess() -> int:\n",
        "  # Set up answer, word list of possible answers, and generate our first guess\n",
        "  answer = random.choice(all_words)\n",
        "  possible = all_words.copy()\n",
        "  guess = random.choice(possible)\n",
        "  num_guesses = 1\n",
        "\n",
        "  # Randomly select a possible answer and use color information to eliminate\n",
        "  # wrong solutions until we have found our word\n",
        "  while guess != answer:\n",
        "    # print(f\"Guess #{num_guesses}: {guess} (incorrect)\")\n",
        "    colors = get_colors(guess, answer)\n",
        "    possible = update_possible(guess, possible, colors)\n",
        "    guess = random.choice(possible)\n",
        "    num_guesses = num_guesses + 1\n",
        "\n",
        "  print(f\"{num_guesses} guesses for the solution \\\"{guess}\\\"\\n\")\n",
        "  # print(num_guesses)\n",
        "  return num_guesses"
      ],
      "metadata": {
        "id": "uw67Ix7xYGup"
      },
      "execution_count": 230,
      "outputs": []
    },
    {
      "cell_type": "code",
      "source": [
        "total_guesses = 0\n",
        "\n",
        "for i in range(simulations):\n",
        "  total_guesses = total_guesses + random_guess()\n",
        "\n",
        "average = total_guesses / float (simulations)\n",
        "print(f\"Average # of guesses for random: {average}\")"
      ],
      "metadata": {
        "id": "d2f2t-ItAn5_"
      },
      "execution_count": null,
      "outputs": []
    },
    {
      "cell_type": "markdown",
      "source": [
        "## Calculating Letter Distributions\n",
        "\n",
        "The \"best\" Wordle guess is the one which could potentially cut down the amount of possible guesses the most. This is logically equivalent to the guess which is most likely to have the most amount of greens. Words with the letters which occur the most in the list are the best words to guess. We can recalculate these counts after each new guess with a **get_letter_occurrences** function, and use an **update_alphabet** function to update our alphabet (list of valid characters)"
      ],
      "metadata": {
        "id": "pG_Q01yaDndR"
      }
    },
    {
      "cell_type": "code",
      "source": [
        "def get_letter_occurrences(alphabet, possible) -> dict:\n",
        "  letters = {}\n",
        "\n",
        "  for letter in alphabet:\n",
        "    letters[letter] = 0\n",
        "\n",
        "  for word in possible:\n",
        "    for letter in list(set(word)):\n",
        "      letters[letter] = letters[letter] + 1\n",
        "\n",
        "  return letters\n",
        "\n",
        "def update_alphabet(alphabet, guess, colors) -> list:\n",
        "  new_alphabet = alphabet[:]\n",
        "  for i in range(len(guess)):\n",
        "    # Recall that a color of 2 means gray, which means this letter is\n",
        "    # not part of the answer\n",
        "    if colors[i] == 2:\n",
        "      if guess[i] in new_alphabet:\n",
        "        new_alphabet.remove(guess[i])\n",
        "  return new_alphabet"
      ],
      "metadata": {
        "id": "fFekroI1F_PT"
      },
      "execution_count": null,
      "outputs": []
    },
    {
      "cell_type": "markdown",
      "source": [
        "## Approach 2: Guess Words With Most Common Letters\n",
        "\n",
        "The function below, **get_common_letter_guess** uses our list of letters and their counts (I used a Python dict) to, letter by letter, assign a total \"score\" to each word in our remaining possible answers. \n",
        "\n",
        "Theoretically, the word with the max score should give us the most green squares, although there may be some flaw here: it might be the case that a letter is extremely common words, but uncommon in specific columns. We can come back to this with a third approach. "
      ],
      "metadata": {
        "id": "IwVtC457Igsd"
      }
    },
    {
      "cell_type": "code",
      "source": [
        "def get_common_letter_guess(possible, letters) -> str:\n",
        "\n",
        "  # Compute a score for each word\n",
        "  best = {}\n",
        "  for word in possible:\n",
        "    best[word] = 0\n",
        "    for letter in list(set(word)):\n",
        "      best[word] = best[word] + letters[letter]\n",
        "\n",
        "  # Guess the word with the best score\n",
        "  return max(best, key=best.get)"
      ],
      "metadata": {
        "id": "yuQK9Hh0LpZ4"
      },
      "execution_count": null,
      "outputs": []
    },
    {
      "cell_type": "code",
      "source": [
        "def common_letters_guess() -> int:\n",
        "  # Set up answer, word list of possible answers, and generate our first guess\n",
        "  answer = random.choice(all_words)\n",
        "  possible = all_words.copy()\n",
        "  alphabet = list(\"abcdefghijklmnopqrstuvwxyz\")\n",
        "  letters = get_letter_occurrences(alphabet, possible)\n",
        "  guess = get_common_letter_guess(possible, letters)\n",
        "  num_guesses = 1\n",
        "\n",
        "  # Randomly select a possible answer and use color information to eliminate\n",
        "  # wrong solutions until we have found our word\n",
        "  while guess != answer:\n",
        "    # print(f\"Guess #{num_guesses}: {guess} (incorrect)\")\n",
        "    colors = get_colors(guess, answer)\n",
        "    possible = update_possible(guess, possible, colors)\n",
        "    alphabet = update_alphabet(alphabet, guess, colors)\n",
        "    letters = get_letter_occurrences(alphabet, possible)\n",
        "    guess = get_common_letter_guess(possible, letters)\n",
        "    num_guesses = num_guesses + 1\n",
        "\n",
        "  print(f\"{num_guesses} guesses for the solution \\\"{guess}\\\"\\n\")\n",
        "  return num_guesses"
      ],
      "metadata": {
        "id": "HbSw8oPAK-8-"
      },
      "execution_count": 229,
      "outputs": []
    },
    {
      "cell_type": "code",
      "source": [
        "total_guesses = 0\n",
        "\n",
        "for i in range(simulations):\n",
        "  total_guesses = total_guesses + common_letters_guess()\n",
        "\n",
        "average = total_guesses / float (simulations)\n",
        "print(f\"Average # of guesses for common letter guess: {average}\")"
      ],
      "metadata": {
        "id": "s0Id-5XqMYTk"
      },
      "execution_count": null,
      "outputs": []
    },
    {
      "cell_type": "markdown",
      "source": [
        "## Analysis So Far:\n",
        "\n",
        "Based on 30 simulations each,\n",
        "\n",
        "Approach 1: Random Guessing takes an average of **6.5 guesses**\n",
        "\n",
        "Approach 2: Guess words with most common letters takes an average of **5.03 guesses**"
      ],
      "metadata": {
        "id": "oxYHsG-404gb"
      }
    }
  ]
}