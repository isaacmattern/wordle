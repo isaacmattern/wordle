{
  "nbformat": 4,
  "nbformat_minor": 0,
  "metadata": {
    "colab": {
      "name": "wordle.ipynb",
      "provenance": [],
      "authorship_tag": "ABX9TyP2/1R0CuaZc0S3mZExBjoJ",
      "include_colab_link": true
    },
    "kernelspec": {
      "name": "python3",
      "display_name": "Python 3"
    },
    "language_info": {
      "name": "python"
    }
  },
  "cells": [
    {
      "cell_type": "markdown",
      "metadata": {
        "id": "view-in-github",
        "colab_type": "text"
      },
      "source": [
        "<a href=\"https://colab.research.google.com/github/isaacmattern/wordle/blob/main/wordle.ipynb\" target=\"_parent\"><img src=\"https://colab.research.google.com/assets/colab-badge.svg\" alt=\"Open In Colab\"/></a>"
      ]
    },
    {
      "cell_type": "markdown",
      "source": [
        "# **Wordle Solver**\n",
        "### Python project by Isaac Mattern\n",
        "\n",
        "[Wordle](https://www.powerlanguage.co.uk/wordle/) is a game where the objective is to correctly guess a 5-letter word in 6 tries or less. Each time a player submits a guess, the game highlights each letter in the word in\n",
        "\n",
        "*   green, if the letter is in the word and in the correct location in the word\n",
        "*   yellow, if the letter is in the word, but not in the position where the user guessed\n",
        "*   gray, if the word does not contain the letter at all\n",
        "\n",
        "This project is an attempt to use a list of the 12,972 5-letter words which are valid Wordle guesses and some Python magic to solve some Wordles.\n",
        "\n",
        "I will be attempting to devise different algorithms to best solve Wordle."
      ],
      "metadata": {
        "id": "KIndBlcpPx_h"
      }
    },
    {
      "cell_type": "code",
      "source": [
        "# Control the amount of simulated games each algorithm will play\n",
        "simulations = 100"
      ],
      "metadata": {
        "id": "Vi6aIjCnrA02"
      },
      "execution_count": 66,
      "outputs": []
    },
    {
      "cell_type": "markdown",
      "source": [
        "##Getting Words\n",
        "First thing's first, Wordle is all about 5-letter words. The Wordle site gives a list of all valid Wordle guesses (it's in the JavaScript for the site - the entire game is completely client-side!). We can just use those words to more accurately simulate Wordle instead of grabbing a list of English words which will contain many invalid guesses. "
      ],
      "metadata": {
        "id": "31tCYYK8Vg_D"
      }
    },
    {
      "cell_type": "code",
      "source": [
        "# Grab the file we want from my github repo\n",
        "!wget -q https://raw.githubusercontent.com/isaacmattern/wordle/main/valid-wordle-words.txt"
      ],
      "metadata": {
        "id": "hMFAQvDcyLM3"
      },
      "execution_count": 59,
      "outputs": []
    },
    {
      "cell_type": "code",
      "execution_count": 88,
      "metadata": {
        "id": "kZyCPBV_PcSc"
      },
      "outputs": [],
      "source": [
        "words_file = open(\"valid-wordle-words.txt\", \"r\")\n",
        "\n",
        "all_words = []\n",
        "for line in words_file:\n",
        "  word = line.strip()\n",
        "  if(len(word) == 5):\n",
        "    all_words.append(word)"
      ]
    },
    {
      "cell_type": "markdown",
      "source": [
        "#### Answer List\n",
        "The first 2315 words in our list are Wordle answers for the years 2021 to 2027, when the game will no longer have any answers (as of the time I'm writing this). The site gives the answers first, and then the rest of guesses, so we'll make a separate array called **all_answers** out of the first 2315 list elements."
      ],
      "metadata": {
        "id": "x4Mxtub-MTKE"
      }
    },
    {
      "cell_type": "code",
      "source": [
        "all_answers = all_words[:2315]"
      ],
      "metadata": {
        "id": "cknaOdfZNMP4"
      },
      "execution_count": 89,
      "outputs": []
    },
    {
      "cell_type": "markdown",
      "source": [
        "## Defining Some Important Functions\n",
        "\n",
        "Wordle will tell us certain information about our guess which we can use to eliminate many words from our list of possible words.\n",
        "\n",
        "*   A **green** letter means we can eliminate any word which doesn't have the letter at the spot where we guessed it\n",
        "*   A **yellow** letter means we can eliminate any words without that letter and any words with that letter in that exact position\n",
        "*   A **gray** letter is a little more complicated. If the letter is gray, and that letter only occurred once in our guess, then we can eliminate any word which contains that letter. If our guess contained the letter multiple times, then we must see if any of the other occurrences were green or yellow. If all of them were gray, we can eliminate all words with that letter at all, but if one of them was green or yellow (not gray), then we can only eliminate words which have letters at that specific position. \n",
        "\n",
        "Let's define two functions which will be useful regardless of what algorithm we are using.\n",
        "\n",
        "\n",
        "1.   An **update_possible** function will allow us to trim down our list of possible Wordle solutions.\n",
        "2.   A **get_colors** function will allow us to simulate what Wordle's program does each time you submit a guess. Thus, this function will only be used when we're running simulations to test the efficiency of our word-guessing algorithms"
      ],
      "metadata": {
        "id": "hRLlnKIP9o9-"
      }
    },
    {
      "cell_type": "code",
      "source": [
        "def update_possible(guess, possible, colors):\n",
        "  \"\"\"\n",
        "  Uses a list of colors (equal in length\n",
        "  to the length of our words) to eliminate words\n",
        "  which could not possibly be correct. \n",
        "  \"\"\"\n",
        "  for i in range(len(guess)):\n",
        "    # GREEN\n",
        "    if colors[i] == 0:\n",
        "      # Eliminate all words which do not have a correct letter in a correct spot\n",
        "      for word in possible[:]:\n",
        "        if guess[i] != word[i]:\n",
        "          possible.remove(word)\n",
        "    # YELLOW      \n",
        "    elif colors[i] == 1:\n",
        "      # Eliminate all words which do not contain a correct letter and \n",
        "      # all words with that letter in that specific position\n",
        "      for word in possible[:]:\n",
        "        if guess[i] not in word or guess[i] == word[i]:\n",
        "          possible.remove(word)\n",
        "    # GRAY\n",
        "    else:\n",
        "      # It could be the case that the user guessed a word with a repeated\n",
        "      # letter - if that's the case, we also need to check if that letter is\n",
        "      # in the word at all.\n",
        "\n",
        "      # First, let's just check if we have more than one index\n",
        "      if guess.count(guess[i]) == 1:\n",
        "        # It is the case that the letter is not in our answer\n",
        "        for word in possible[:]:\n",
        "          if guess[i] in word:\n",
        "            possible.remove(word)\n",
        "      else:\n",
        "        # There is more than one occurence of the letter\n",
        "        # Let's grab the indices\n",
        "        indices = [j for j, x in enumerate(guess) if x == guess[i]]\n",
        "        # Check if the letter is in the answer at all\n",
        "        in_word = False\n",
        "        for j in indices:\n",
        "          if colors[j] != 2:\n",
        "            in_word == True\n",
        "        if in_word:\n",
        "          # Simply remove word with the letter at that index\n",
        "          for word in possible[:]:\n",
        "            if guess[i] == word[i]:\n",
        "              possible.remove(word)\n",
        "        else:\n",
        "          # Remove all words with the letter\n",
        "          for word in possible[:]:\n",
        "            if guess[i] in word:\n",
        "              possible.remove(word)\n",
        "\n",
        "  if guess in possible:\n",
        "    possible.remove(guess)\n",
        "  return possible\n",
        "\n",
        "def get_colors(guess, answer) -> list:\n",
        "  \"\"\"\n",
        "  Compares a guess to an answer and\n",
        "  returns a list of numbers which signifies\n",
        "  colors returned by a wordle guess.\n",
        "  0 = Green\n",
        "  1 = Yellow\n",
        "  2 = Gray\n",
        "  \"\"\"\n",
        "  colors = []\n",
        "  for i in range(len(guess)):\n",
        "    if guess[i] == answer[i]:\n",
        "      colors.append(0)\n",
        "    elif guess[i] in answer:\n",
        "      colors.append(1)\n",
        "    else:\n",
        "      colors.append(2)\n",
        "\n",
        "  return colors"
      ],
      "metadata": {
        "id": "Rw5R2203k8H1"
      },
      "execution_count": 91,
      "outputs": []
    },
    {
      "cell_type": "markdown",
      "source": [
        "## Approach 1: Random Guess\n",
        "\n",
        "We will first randomly select a word using *random.choice*. A completely random guess probably isn't the greatest strategy, so we shouldn't expect an amazing result. \n",
        "\n",
        "After selecting a random 100 words from the list and running a simulation for each of them, it took, on average, 6.37 guesses, which is kind of garbage, since more than 6 guesses is considered a loss by Wordle. "
      ],
      "metadata": {
        "id": "rhQ1ZVbUXOjX"
      }
    },
    {
      "cell_type": "code",
      "source": [
        "import random\n",
        "\n",
        "def random_guess() -> int:\n",
        "  # Set up answer, word list of possible answers, and generate our first guess\n",
        "  answer = random.choice(all_answers)\n",
        "  possible = all_words.copy()\n",
        "  guess = random.choice(possible)\n",
        "  num_guesses = 1\n",
        "\n",
        "  # Randomly select a possible answer and use color information to eliminate\n",
        "  # wrong solutions until we have found our word\n",
        "  while guess != answer:\n",
        "    print(f\"Guess #{num_guesses}: {guess} (incorrect)\")\n",
        "    colors = get_colors(guess, answer)\n",
        "    possible = update_possible(guess, possible, colors)\n",
        "    guess = random.choice(possible)\n",
        "    num_guesses = num_guesses + 1\n",
        "\n",
        "  print(f\"{num_guesses} guesses for the solution \\\"{guess}\\\"\\n\")\n",
        "  # print(num_guesses)\n",
        "  return num_guesses"
      ],
      "metadata": {
        "id": "uw67Ix7xYGup"
      },
      "execution_count": 92,
      "outputs": []
    },
    {
      "cell_type": "code",
      "source": [
        "total_guesses = 0\n",
        "\n",
        "for i in range(simulations):\n",
        "  total_guesses = total_guesses + random_guess()\n",
        "\n",
        "average = total_guesses / float (simulations)\n",
        "print(f\"Average # of guesses for random: {average}\")"
      ],
      "metadata": {
        "id": "d2f2t-ItAn5_"
      },
      "execution_count": null,
      "outputs": []
    },
    {
      "cell_type": "markdown",
      "source": [
        "## Calculating Letter Distributions\n",
        "\n",
        "The \"best\" Wordle guess is the one which could potentially cut down the amount of possible guesses the most. This is logically equivalent to the guess which is most likely to have the most amount of greens. Words with the letters which occur the most in the list are the best words to guess. We can recalculate these counts after each new guess with a **get_letter_occurrences** function, and use an **update_alphabet** function to update our alphabet (list of valid characters)"
      ],
      "metadata": {
        "id": "pG_Q01yaDndR"
      }
    },
    {
      "cell_type": "code",
      "source": [
        "def get_letter_occurrences(alphabet, possible) -> dict:\n",
        "  letters = {}\n",
        "\n",
        "  for letter in alphabet:\n",
        "    letters[letter] = 0\n",
        "\n",
        "  for word in possible:\n",
        "    for letter in list(set(word)):\n",
        "      letters[letter] = letters[letter] + 1\n",
        "\n",
        "  return letters\n",
        "\n",
        "def update_alphabet(alphabet, guess, colors) -> list:\n",
        "  new_alphabet = alphabet[:]\n",
        "  for i in range(len(guess)):\n",
        "    # Recall that a color of 2 means gray, which means this letter is\n",
        "    # not part of the answer\n",
        "    if colors[i] == 2:\n",
        "      if guess[i] in new_alphabet:\n",
        "        new_alphabet.remove(guess[i])\n",
        "  return new_alphabet"
      ],
      "metadata": {
        "id": "fFekroI1F_PT"
      },
      "execution_count": 53,
      "outputs": []
    },
    {
      "cell_type": "markdown",
      "source": [
        "## Approach 2: Guess Words With Most Common Letters\n",
        "\n",
        "The function below, **get_common_letter_guess** uses our list of letters and their counts (I used a Python dict) to, letter by letter, assign a total \"score\" to each word in our remaining possible answers. \n",
        "\n",
        "Theoretically, the word with the max score should give us the most green squares, although there may be some flaw here: it might be the case that a letter is extremely common words, but uncommon in specific columns. We can come back to this with a third approach. "
      ],
      "metadata": {
        "id": "IwVtC457Igsd"
      }
    },
    {
      "cell_type": "code",
      "source": [
        "def get_common_letter_guess(possible, letters) -> str:\n",
        "\n",
        "  # Compute a score for each word\n",
        "  best = {}\n",
        "  for word in possible:\n",
        "    best[word] = 0\n",
        "    for letter in list(set(word)):\n",
        "      best[word] = best[word] + letters[letter]\n",
        "\n",
        "  # Guess the word with the best score\n",
        "  return max(best, key=best.get)"
      ],
      "metadata": {
        "id": "yuQK9Hh0LpZ4"
      },
      "execution_count": 8,
      "outputs": []
    },
    {
      "cell_type": "code",
      "source": [
        "def common_letters_guess() -> int:\n",
        "  # Set up answer, word list of possible answers, and generate our first guess\n",
        "  answer = random.choice(all_answers)\n",
        "  possible = all_words.copy()\n",
        "  alphabet = list(\"abcdefghijklmnopqrstuvwxyz\")\n",
        "  letters = get_letter_occurrences(alphabet, possible)\n",
        "  guess = get_common_letter_guess(possible, letters)\n",
        "  num_guesses = 1\n",
        "\n",
        "  # Randomly select a possible answer and use color information to eliminate\n",
        "  # wrong solutions until we have found our word\n",
        "  while guess != answer:\n",
        "    print(f\"Guess #{num_guesses}: {guess} (incorrect)\")\n",
        "    colors = get_colors(guess, answer)\n",
        "    possible = update_possible(guess, possible, colors)\n",
        "    alphabet = update_alphabet(alphabet, guess, colors)\n",
        "    letters = get_letter_occurrences(alphabet, possible)\n",
        "    guess = get_common_letter_guess(possible, letters)\n",
        "    num_guesses = num_guesses + 1\n",
        "\n",
        "  print(f\"{num_guesses} guesses for the solution \\\"{guess}\\\"\\n\")\n",
        "  return num_guesses"
      ],
      "metadata": {
        "id": "HbSw8oPAK-8-"
      },
      "execution_count": 65,
      "outputs": []
    },
    {
      "cell_type": "code",
      "source": [
        "total_guesses = 0\n",
        "\n",
        "for i in range(simulations):\n",
        "  total_guesses = total_guesses + common_letters_guess()\n",
        "\n",
        "average = total_guesses / float (simulations)\n",
        "print(f\"Average # of guesses for common letter guess: {average}\")"
      ],
      "metadata": {
        "id": "s0Id-5XqMYTk"
      },
      "execution_count": null,
      "outputs": []
    },
    {
      "cell_type": "markdown",
      "source": [
        "## Analysis So Far:\n",
        "\n",
        "Based on 100 simulations each,\n",
        "\n",
        "Approach 1: Random Guessing takes an average of **5.04 guesses**\n",
        "\n",
        "Approach 2: Guess words with most common letters takes an average of **4.11 guesses**\n",
        "\n",
        "So, assigning a score to each word based off of how many words we can eliminate if the answer is completely wrong, and choosing the \"best\" word, we decrease our score, on average, by almost an entire guess. This is pretty impressive!"
      ],
      "metadata": {
        "id": "oxYHsG-404gb"
      }
    }
  ]
}