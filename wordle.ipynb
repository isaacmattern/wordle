{
  "nbformat": 4,
  "nbformat_minor": 0,
  "metadata": {
    "colab": {
      "name": "wordle.ipynb",
      "provenance": [],
      "authorship_tag": "ABX9TyPQj8gcq9CY02jEgZS6ZUIe",
      "include_colab_link": true
    },
    "kernelspec": {
      "name": "python3",
      "display_name": "Python 3"
    },
    "language_info": {
      "name": "python"
    }
  },
  "cells": [
    {
      "cell_type": "markdown",
      "metadata": {
        "id": "view-in-github",
        "colab_type": "text"
      },
      "source": [
        "<a href=\"https://colab.research.google.com/github/isaacmattern/wordle/blob/main/wordle.ipynb\" target=\"_parent\"><img src=\"https://colab.research.google.com/assets/colab-badge.svg\" alt=\"Open In Colab\"/></a>"
      ]
    },
    {
      "cell_type": "markdown",
      "source": [
        "# **Wordle Solver**\n",
        "### Python project by Isaac Mattern\n",
        "\n",
        "[Wordle](https://www.powerlanguage.co.uk/wordle/) is a game where the objective is to correctly guess a 5-letter word in 6 tries or less. Each time a player submits a guess, the game highlights each letter in the word in\n",
        "\n",
        "*   green, if the letter is in the word and in the correct location in the word\n",
        "*   yellow, if the letter is in the word, but not in the position where the user guessed\n",
        "*   gray, if the word does not contain the letter at all\n",
        "\n",
        "This project is an attempt to use a list of the most 15,918 5-letter words and some Python magic to solve some Wordles.\n",
        "\n"
      ],
      "metadata": {
        "id": "KIndBlcpPx_h"
      }
    },
    {
      "cell_type": "markdown",
      "source": [
        "##Getting Words\n",
        "First thing's first, Wordle is all about 5-letter words. So let's find a large dataset of 5-letter words! [This repository](https://github.com/dwyl/english-words) contains the 466,000 most common English words. We'll select the [words_aplpha.txt](https://raw.githubusercontent.com/dwyl/english-words/master/words_alpha.txt) file and place all words that aren't of length 5 into a list. Printing the length of this list tells us we have the 15,918 most common 5-letter English words. So, unless the people at Wordle are feeling particulary cruel, we probably have the answer here somewhere. "
      ],
      "metadata": {
        "id": "31tCYYK8Vg_D"
      }
    },
    {
      "cell_type": "code",
      "execution_count": 85,
      "metadata": {
        "id": "kZyCPBV_PcSc",
        "outputId": "30b51ff3-86b7-4d89-99d1-f4278a962d82",
        "colab": {
          "base_uri": "https://localhost:8080/"
        }
      },
      "outputs": [
        {
          "output_type": "stream",
          "name": "stdout",
          "text": [
            "15918\n"
          ]
        }
      ],
      "source": [
        "words_file = open(\"466k.txt\", \"r\")\n",
        "\n",
        "all_words = []\n",
        "for line in words_file:\n",
        "  word = line.strip()\n",
        "  if len(word) == 5:\n",
        "    all_words.append(word)\n",
        "\n",
        "# print(all_words)\n",
        "print(len(all_words))"
      ]
    },
    {
      "cell_type": "markdown",
      "source": [
        "## Defining Some Important Functions\n",
        "\n",
        "Wordle will tell us certain information about our guess which we can use to eliminate many words from our list of possible words.\n",
        "\n",
        "*   A **green**\n",
        "*   A **yellow**\n",
        "*   A **gray** letter means that the letter we guessed is not in the word at all. \n",
        "\n",
        "Let's define two functions which will be useful regardless of what algorithm we are using.\n",
        "\n",
        "\n",
        "1.   An **update_possible** function will allow us to trim down our list of possible Wordle solutions.\n",
        "2.   A **get_colors** function will allow us to simulate what Wordle's program does each time you submit a guess. Thus, this function will only be used when we're running simulations to test the efficiency of our word-guessing algorithms"
      ],
      "metadata": {
        "id": "hRLlnKIP9o9-"
      }
    },
    {
      "cell_type": "code",
      "source": [
        "def update_possible(guess, possible, colors):\n",
        "  \"\"\"\n",
        "  Uses a list of colors (equal in length\n",
        "  to the length of our words) to eliminate words\n",
        "  which could not possibly be correct. \n",
        "  \"\"\"\n",
        "  for i in range(len(guess)):\n",
        "    if colors[i] == 0:\n",
        "      # Eliminate all words which do not have a correct letter in a correct spot\n",
        "      for word in possible[:]:\n",
        "        if guess[i] != word[i]:\n",
        "          possible.remove(word)\n",
        "    elif colors[i] == 1:\n",
        "      # Eliminate all words which do not contain a correct letter\n",
        "      for word in possible[:]:\n",
        "        if guess[i] not in word:\n",
        "          possible.remove(word)\n",
        "    else:\n",
        "      # Eliminate all words which contain an incorrect letter\n",
        "      for word in possible[:]:\n",
        "        if guess[i] in word:\n",
        "          possible.remove(word)\n",
        "\n",
        "def get_colors(guess, answer) -> list:\n",
        "  \"\"\"\n",
        "  Compares a guess to an answer and\n",
        "  returns a list of numbers which signifies\n",
        "  colors returned by a wordle guess.\n",
        "  0 = Green\n",
        "  1 = Yellow\n",
        "  2 = Gray\n",
        "  \"\"\"\n",
        "  colors = []\n",
        "  for i in range(len(guess)):\n",
        "    if guess[i] == answer[i]:\n",
        "      colors.append(0)\n",
        "    elif guess[i] in answer:\n",
        "      colors.append(1)\n",
        "    else:\n",
        "      colors.append(2)\n",
        "\n",
        "  return colors"
      ],
      "metadata": {
        "id": "Rw5R2203k8H1"
      },
      "execution_count": 84,
      "outputs": []
    },
    {
      "cell_type": "markdown",
      "source": [
        "## Approach number 1: Random Guess\n",
        "\n",
        "We will first randomly select a word using *random.choice*. A completely random guess probably isn't the greatest strategy, so we shouldn't expect an amazing result. \n",
        "\n",
        "After selecting a random 100 words from the list and running a simulation for each of them, it took, on average, 6.37 guesses, which is kind of garbage, since more than 6 guesses is considered a loss by Wordle. "
      ],
      "metadata": {
        "id": "rhQ1ZVbUXOjX"
      }
    },
    {
      "cell_type": "code",
      "source": [
        "import random\n",
        "\n",
        "def random_guess() -> int:\n",
        "  # Set up answer, word list of possible answers, and generate our first guess\n",
        "  answer = random.choice(all_words)\n",
        "  possible = all_words.copy()\n",
        "  guess = random.choice(possible)\n",
        "  num_guesses = 1\n",
        "\n",
        "  # Randomly select a possible answer and use color information to eliminate\n",
        "  # wrong solutions until we have found our word\n",
        "  while guess != answer:\n",
        "    # print(f\"Guess #{num_guesses}: {guess} (incorrect)\")\n",
        "    colors = get_colors(guess, answer)\n",
        "    update_possible(guess, possible, colors)\n",
        "    guess = random.choice(possible)\n",
        "    num_guesses = num_guesses + 1\n",
        "\n",
        "  # print(f\"{num_guesses} guesses for the solution \\\"{guess}\\\"\")\n",
        "  return num_guesses"
      ],
      "metadata": {
        "id": "uw67Ix7xYGup"
      },
      "execution_count": 88,
      "outputs": []
    },
    {
      "cell_type": "code",
      "source": [
        "simulations = 100\n",
        "total_guesses = 0\n",
        "\n",
        "for i in range(simulations):\n",
        "  total_guesses = total_guesses + random_guess()\n",
        "\n",
        "average = (float) (total_guesses / simulations)\n",
        "print(f\"Average # of guesses for random: {average}\")"
      ],
      "metadata": {
        "colab": {
          "base_uri": "https://localhost:8080/"
        },
        "id": "d2f2t-ItAn5_",
        "outputId": "7895adeb-3f6d-441c-9904-4a1fd242fdb7"
      },
      "execution_count": 89,
      "outputs": [
        {
          "output_type": "stream",
          "name": "stdout",
          "text": [
            "Average # of guesses for random: 6.37\n"
          ]
        }
      ]
    }
  ]
}